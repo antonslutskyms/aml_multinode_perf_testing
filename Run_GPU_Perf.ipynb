{
 "cells": [
  {
   "cell_type": "code",
   "execution_count": null,
   "metadata": {},
   "outputs": [],
   "source": [
    "!az configure --defaults workspace=<workspace name> group=<resource group name>"
   ]
  },
  {
   "cell_type": "code",
   "execution_count": 23,
   "metadata": {},
   "outputs": [
    {
     "name": "stdout",
     "output_type": "stream",
     "text": [
      "{\n",
      "  \"build\": {\n",
      "    \"dockerfile_path\": \"Dockerfile\",\n",
      "    \"path\": \"https://gpuworkspace9922102151.blob.core.windows.net/azureml-blobstore-23317781-110c-4faf-9763-19f2fd34b6cf/LocalUpload/0418188d84be763f40ae3a769653d33a/nvidia/\"\n",
      "  },\n",
      "  \"creation_context\": {\n",
      "    \"created_at\": \"2024-02-01T17:55:41.414973+00:00\",\n",
      "    \"created_by\": \"Anton Slutsky\",\n",
      "    \"created_by_type\": \"User\",\n",
      "    \"last_modified_at\": \"2024-02-01T17:55:41.414973+00:00\",\n",
      "    \"last_modified_by\": \"Anton Slutsky\",\n",
      "    \"last_modified_by_type\": \"User\"\n",
      "  },\n",
      "  \"id\": \"azureml:/subscriptions/781b03e7-6eb7-4506-bab8-cf3a0d89b1d4/resourceGroups/antonslutsky-rg/providers/Microsoft.MachineLearningServices/workspaces/gpu-workspace/environments/nccltests_nvidia_pytorch/versions/22.06-py3\",\n",
      "  \"name\": \"nccltests_nvidia_pytorch\",\n",
      "  \"os_type\": \"linux\",\n",
      "  \"resourceGroup\": \"antonslutsky-rg\",\n",
      "  \"tags\": {},\n",
      "  \"version\": \"22.06-py3\"\n",
      "}\n"
     ]
    },
    {
     "name": "stderr",
     "output_type": "stream",
     "text": [
      "\n",
      "Uploading nvidia (0.12 MBs):   0%|          | 0/119548 [00:00<?, ?it/s]\n",
      "Uploading nvidia (0.12 MBs):   1%|1         | 1371/119548 [00:00<00:13, 8445.38it/s]\n",
      "Uploading nvidia (0.12 MBs):   2%|1         | 2256/119548 [00:00<00:18, 6427.68it/s]\n",
      "Uploading nvidia (0.12 MBs):  28%|##8       | 33871/119548 [00:00<00:00, 108528.49it/s]\n",
      "Uploading nvidia (0.12 MBs):  41%|####      | 48435/119548 [00:00<00:00, 108731.83it/s]\n",
      "Uploading nvidia (0.12 MBs): 100%|##########| 119548/119548 [00:00<00:00, 271816.91it/s]\n",
      "Uploading nvidia (0.12 MBs): 100%|##########| 119548/119548 [00:00<00:00, 173775.73it/s]\n",
      "\n",
      "\n"
     ]
    }
   ],
   "source": [
    "!az ml environment create  --file ./environments/nvidia/env.yml"
   ]
  },
  {
   "cell_type": "code",
   "execution_count": 18,
   "metadata": {},
   "outputs": [
    {
     "name": "stdout",
     "output_type": "stream",
     "text": [
      "{\n",
      "  \"build\": {\n",
      "    \"dockerfile_path\": \"Dockerfile\",\n",
      "    \"path\": \"https://gpuworkspace9922102151.blob.core.windows.net/azureml-blobstore-23317781-110c-4faf-9763-19f2fd34b6cf/LocalUpload/da22dd856893c40b395f99a3f50f90bd/azureml/\"\n",
      "  },\n",
      "  \"creation_context\": {\n",
      "    \"created_at\": \"2024-02-01T16:09:06.525090+00:00\",\n",
      "    \"created_by\": \"Anton Slutsky\",\n",
      "    \"created_by_type\": \"User\",\n",
      "    \"last_modified_at\": \"2024-02-01T16:09:06.525090+00:00\",\n",
      "    \"last_modified_by\": \"Anton Slutsky\",\n",
      "    \"last_modified_by_type\": \"User\"\n",
      "  },\n",
      "  \"id\": \"azureml:/subscriptions/781b03e7-6eb7-4506-bab8-cf3a0d89b1d4/resourceGroups/antonslutsky-rg/providers/Microsoft.MachineLearningServices/workspaces/gpu-workspace/environments/nccltests_azureml/versions/stable-ubuntu2004-cu121-py38-torch210-1\",\n",
      "  \"name\": \"nccltests_azureml\",\n",
      "  \"os_type\": \"linux\",\n",
      "  \"resourceGroup\": \"antonslutsky-rg\",\n",
      "  \"tags\": {},\n",
      "  \"version\": \"stable-ubuntu2004-cu121-py38-torch210-1\"\n",
      "}\n"
     ]
    },
    {
     "name": "stderr",
     "output_type": "stream",
     "text": [
      "\n",
      "Uploading azureml (0.0 MBs):   0%|          | 0/1431 [00:00<?, ?it/s]\n",
      "Uploading azureml (0.0 MBs): 100%|##########| 1431/1431 [00:00<00:00, 4495.21it/s]\n",
      "Uploading azureml (0.0 MBs): 100%|##########| 1431/1431 [00:00<00:00, 4495.21it/s]\n",
      "\n",
      "\n"
     ]
    }
   ],
   "source": [
    "!az ml environment create  --file ./environments/azureml/env.yml"
   ]
  },
  {
   "cell_type": "code",
   "execution_count": 24,
   "metadata": {},
   "outputs": [
    {
     "name": "stdout",
     "output_type": "stream",
     "text": [
      "{\n",
      "  \"code\": \"azureml:/subscriptions/781b03e7-6eb7-4506-bab8-cf3a0d89b1d4/resourceGroups/antonslutsky-rg/providers/Microsoft.MachineLearningServices/workspaces/gpu-workspace/codes/e06ba871-5c87-4825-844a-3d41b6b8a23e/versions/1\",\n",
      "  \"command\": \"/bin/bash ./gpu_perf_driver.sh\",\n",
      "  \"compute\": \"azureml:four-nodes\",\n",
      "  \"creation_context\": {\n",
      "    \"created_at\": \"2024-02-01T17:56:38.144885+00:00\",\n",
      "    \"created_by\": \"Anton Slutsky\",\n",
      "    \"created_by_type\": \"User\"\n",
      "  },\n",
      "  \"description\": \"Runs NCCL-tests on gpu nodes.\",\n",
      "  \"display_name\": \"Gpu Diag (NCCL tests)\",\n",
      "  \"distribution\": {\n",
      "    \"process_count_per_instance\": 1,\n",
      "    \"type\": \"mpi\"\n",
      "  },\n",
      "  \"environment\": \"azureml:nccltests_nvidia_pytorch:22.06-py3\",\n",
      "  \"environment_variables\": {\n",
      "    \"CUDA_DEVICE_ORDER\": \"PCI_BUS_ID\",\n",
      "    \"NCCL_DEBUG\": \"INFO\",\n",
      "    \"NCCL_SOCKET_IFNAME\": \"eth0\",\n",
      "    \"NCCL_TOPO_FILE\": \"/opt/microsoft/ndv4-topo.xml\",\n",
      "    \"UCX_NET_DEVICES\": \"eth0\",\n",
      "    \"UCX_TLS\": \"tcp\"\n",
      "  },\n",
      "  \"experiment_name\": \"nccl-test\",\n",
      "  \"id\": \"azureml:/subscriptions/781b03e7-6eb7-4506-bab8-cf3a0d89b1d4/resourceGroups/antonslutsky-rg/providers/Microsoft.MachineLearningServices/workspaces/gpu-workspace/jobs/lime_farm_gfq8qgqyyx\",\n",
      "  \"inputs\": {},\n",
      "  \"name\": \"lime_farm_gfq8qgqyyx\",\n",
      "  \"outputs\": {\n",
      "    \"default\": {\n",
      "      \"mode\": \"rw_mount\",\n",
      "      \"path\": \"azureml://datastores/workspaceartifactstore/ExperimentRun/dcid.lime_farm_gfq8qgqyyx\",\n",
      "      \"type\": \"uri_folder\"\n",
      "    }\n",
      "  },\n",
      "  \"parameters\": {},\n",
      "  \"properties\": {\n",
      "    \"ContentSnapshotId\": \"c812b56e-add4-4ccc-a575-708a847dbf43\",\n",
      "    \"_azureml.ClusterName\": \"four-nodes\",\n",
      "    \"_azureml.ComputeTargetType\": \"amlctrain\",\n",
      "    \"azureml.git.dirty\": \"True\",\n",
      "    \"mlflow.source.git.branch\": \"main\",\n",
      "    \"mlflow.source.git.commit\": \"c6597563477b25e8879b1a292b6c9ce4e4edb61a\",\n",
      "    \"mlflow.source.git.repoURL\": \"https://github.com/antonslutskyms/aml_multinode_perf_testing.git\"\n",
      "  },\n",
      "  \"resourceGroup\": \"antonslutsky-rg\",\n",
      "  \"resources\": {\n",
      "    \"instance_count\": 4,\n",
      "    \"properties\": {},\n",
      "    \"shm_size\": \"2g\"\n",
      "  },\n",
      "  \"services\": {\n",
      "    \"Studio\": {\n",
      "      \"endpoint\": \"https://ml.azure.com/runs/lime_farm_gfq8qgqyyx?wsid=/subscriptions/781b03e7-6eb7-4506-bab8-cf3a0d89b1d4/resourcegroups/antonslutsky-rg/workspaces/gpu-workspace&tid=16b3c013-d300-468d-ac64-7eda0820b6d3\",\n",
      "      \"type\": \"Studio\"\n",
      "    },\n",
      "    \"Tracking\": {\n",
      "      \"endpoint\": \"azureml://northeurope.api.azureml.ms/mlflow/v1.0/subscriptions/781b03e7-6eb7-4506-bab8-cf3a0d89b1d4/resourceGroups/antonslutsky-rg/providers/Microsoft.MachineLearningServices/workspaces/gpu-workspace?\",\n",
      "      \"type\": \"Tracking\"\n",
      "    },\n",
      "    \"my_jupyter_lab\": {\n",
      "      \"properties\": {},\n",
      "      \"type\": \"jupyter_lab\"\n",
      "    },\n",
      "    \"my_vs_code\": {\n",
      "      \"properties\": {},\n",
      "      \"type\": \"vs_code\"\n",
      "    }\n",
      "  },\n",
      "  \"status\": \"Starting\",\n",
      "  \"tags\": {},\n",
      "  \"type\": \"command\"\n",
      "}\n"
     ]
    },
    {
     "name": "stderr",
     "output_type": "stream",
     "text": [
      "Class AutoDeleteSettingSchema: This is an experimental class, and may change at any time. Please see https://aka.ms/azuremlexperimental for more information.\n",
      "Class AutoDeleteConditionSchema: This is an experimental class, and may change at any time. Please see https://aka.ms/azuremlexperimental for more information.\n",
      "Class BaseAutoDeleteSettingSchema: This is an experimental class, and may change at any time. Please see https://aka.ms/azuremlexperimental for more information.\n",
      "Class IntellectualPropertySchema: This is an experimental class, and may change at any time. Please see https://aka.ms/azuremlexperimental for more information.\n",
      "Class ProtectionLevelSchema: This is an experimental class, and may change at any time. Please see https://aka.ms/azuremlexperimental for more information.\n",
      "Class BaseIntellectualPropertySchema: This is an experimental class, and may change at any time. Please see https://aka.ms/azuremlexperimental for more information.\n"
     ]
    }
   ],
   "source": [
    "!az ml job create  -f ./gpu_perf_job.yml"
   ]
  },
  {
   "cell_type": "code",
   "execution_count": null,
   "metadata": {},
   "outputs": [],
   "source": []
  }
 ],
 "metadata": {
  "kernelspec": {
   "display_name": "Python 3",
   "language": "python",
   "name": "python3"
  },
  "language_info": {
   "codemirror_mode": {
    "name": "ipython",
    "version": 3
   },
   "file_extension": ".py",
   "mimetype": "text/x-python",
   "name": "python",
   "nbconvert_exporter": "python",
   "pygments_lexer": "ipython3",
   "version": "3.10.13"
  }
 },
 "nbformat": 4,
 "nbformat_minor": 2
}
